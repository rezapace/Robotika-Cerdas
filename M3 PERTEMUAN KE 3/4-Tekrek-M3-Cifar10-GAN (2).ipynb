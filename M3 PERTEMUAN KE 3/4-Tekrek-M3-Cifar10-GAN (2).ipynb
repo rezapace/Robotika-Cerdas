{
 "cells": [
  {
   "cell_type": "markdown",
   "metadata": {
    "id": "NJp-D51g0IDd"
   },
   "source": [
    "## **1) Importing Python Packages for GAN**\n"
   ]
  },
  {
   "cell_type": "code",
   "execution_count": null,
   "metadata": {
    "id": "1k5mFBuzzl2a"
   },
   "outputs": [],
   "source": [
    "from keras.datasets import cifar10, mnist\n",
    "from keras.models import Sequential\n",
    "from keras.layers import Reshape\n",
    "from keras.layers import Dense\n",
    "from keras.layers import Flatten\n",
    "from keras.layers import Conv2D\n",
    "from keras.layers import Conv2DTranspose\n",
    "from keras.layers import Dropout\n",
    "from keras.layers.advanced_activations import LeakyReLU\n",
    "from tensorflow.keras.optimizers import Adam\n",
    "import numpy as np\n",
    "!mkdir generated_images"
   ]
  },
  {
   "cell_type": "markdown",
   "metadata": {
    "id": "Yr-eZOzg0X79"
   },
   "source": [
    "## **2) Parameters for Neural Networks & Data**"
   ]
  },
  {
   "cell_type": "code",
   "execution_count": null,
   "metadata": {
    "colab": {
     "base_uri": "https://localhost:8080/"
    },
    "id": "RThZMDruz9cB",
    "outputId": "e4b60954-991f-4cbb-9bdf-38717f20518a"
   },
   "outputs": [],
   "source": [
    "img_width = 32\n",
    "img_height = 32\n",
    "channels = 3\n",
    "img_shape = (img_width, img_height, channels)\n",
    "latent_dim = 100\n",
    "adam = Adam(lr=0.0002)"
   ]
  },
  {
   "cell_type": "markdown",
   "metadata": {
    "id": "U3bcJZZg0cqy"
   },
   "source": [
    "## **3) Building Generator**\n",
    "\n",
    "\n",
    "\n"
   ]
  },
  {
   "cell_type": "code",
   "execution_count": null,
   "metadata": {
    "colab": {
     "base_uri": "https://localhost:8080/"
    },
    "id": "NdiqZpri0iQh",
    "outputId": "eff07f93-2f5d-4bfb-b2be-b7d00839b15d"
   },
   "outputs": [],
   "source": [
    "def build_generator():\n",
    "    model = Sequential()\n",
    "\n",
    "    # Create first layer, to receive the input \n",
    "    model.add(Dense(256 * 4 * 4, input_dim = latent_dim))\n",
    "    # 256 * 8 * 8; for upscaling the layers, \n",
    "    # initial shape to construct into final shape\n",
    "\n",
    "    # Create default activation function\n",
    "    model.add(LeakyReLU(alpha = 0.2))\n",
    "\n",
    "    # Create reshape layer\n",
    "    model.add(Reshape((4, 4,256)))\n",
    "    # 8,8,256 ; reffers to first layer\n",
    "\n",
    "    # Adding more layers for neurons and better result\n",
    "    model.add(Conv2DTranspose(128, (4,4), strides = (2,2), padding = 'same'))\n",
    "    model.add(LeakyReLU(alpha= 0.2))\n",
    "    model.add(Conv2DTranspose(128, (4,4), strides = (2,2), padding = 'same'))\n",
    "    model.add(LeakyReLU(alpha= 0.2))\n",
    "    model.add(Conv2DTranspose(128, (4,4), strides = (2,2), padding = 'same'))\n",
    "    model.add(LeakyReLU(alpha= 0.2))\n",
    "    # (4,4) >> filter size\n",
    "    # strides = (2,2) >> Convolutional layers, that how NN understand images\n",
    "\n",
    "    # Create Final output layer and forming image shape\n",
    "    # the shape (3, (3,3)) reffers to image shape :\n",
    "    #    >>>  img_shape = (img_width, img_height, channels)\n",
    "    model.add(Conv2D(3, (3,3), activation= 'tanh', padding = 'same'))\n",
    "\n",
    "    #\n",
    "    model.summary()\n",
    "    return model\n",
    "\n",
    "generator = build_generator()"
   ]
  },
  {
   "cell_type": "markdown",
   "metadata": {
    "id": "Bt6QsJCW0mcI"
   },
   "source": [
    "## **4) Building Discriminator**"
   ]
  },
  {
   "cell_type": "code",
   "execution_count": null,
   "metadata": {
    "colab": {
     "base_uri": "https://localhost:8080/"
    },
    "id": "V2JzEAPv0lKt",
    "outputId": "1201760c-1ce4-4c88-b2a5-91aca4d4ea94"
   },
   "outputs": [],
   "source": [
    "def build_discriminator():\n",
    "    model = Sequential()\n",
    "\n",
    "    # Create input layer and filter and stride layer. That makes NN understand image\n",
    "    model.add(Conv2D(64, (3,3), padding = 'same', input_shape = img_shape))\n",
    "\n",
    "    # Adding activation function\n",
    "    model.add(LeakyReLU(alpha = 0.2))\n",
    "    model.add(Conv2D(128, (3,3), padding = 'same'))\n",
    "    model.add(LeakyReLU(alpha = 0.2))\n",
    "    model.add(Conv2D(128, (3,3), padding = 'same'))\n",
    "    model.add(LeakyReLU(alpha = 0.2))\n",
    "    model.add(Conv2D(256, (3,3), padding = 'same'))\n",
    "    model.add(LeakyReLU(alpha = 0.2))\n",
    "    model.add(Flatten())\n",
    "\n",
    "    model.add(Dropout(0.4))\n",
    "\n",
    "    # Create output layer\n",
    "    model.add(Dense(1, activation = 'sigmoid'))\n",
    "\n",
    "    model.summary()\n",
    "    return model\n",
    "\n",
    "discriminator = build_discriminator()\n",
    "discriminator.compile(loss='binary_crossentropy', optimizer=adam, metrics=['accuracy'])"
   ]
  },
  {
   "cell_type": "markdown",
   "metadata": {
    "id": "TbcKcKmA0q2S"
   },
   "source": [
    "## **5) Connecting Neural Networks to build GAN**"
   ]
  },
  {
   "cell_type": "code",
   "execution_count": null,
   "metadata": {
    "id": "q0Ue3TEd0xLy"
   },
   "outputs": [],
   "source": [
    "GAN = Sequential()\n",
    "discriminator.trainable = False\n",
    "GAN.add(generator)\n",
    "GAN.add(discriminator)\n",
    "\n",
    "GAN.compile(loss='binary_crossentropy', optimizer=adam)"
   ]
  },
  {
   "cell_type": "code",
   "execution_count": null,
   "metadata": {
    "id": "EPqU8dZDaQmE"
   },
   "outputs": [],
   "source": [
    "#GAN.summary()"
   ]
  },
  {
   "cell_type": "markdown",
   "metadata": {
    "id": "2WaNhBDwRwTG"
   },
   "source": [
    "## **6) Outputting Images**\n"
   ]
  },
  {
   "cell_type": "code",
   "execution_count": null,
   "metadata": {
    "id": "HQEJ0WbjRppy"
   },
   "outputs": [],
   "source": []
  },
  {
   "cell_type": "markdown",
   "metadata": {
    "id": "tE57Lk5V0xs2"
   },
   "source": [
    "## **7) Training GAN**"
   ]
  },
  {
   "cell_type": "code",
   "execution_count": null,
   "metadata": {
    "id": "egSJJvik00Iq"
   },
   "outputs": [],
   "source": []
  },
  {
   "cell_type": "code",
   "execution_count": null,
   "metadata": {
    "id": "GS9wDLeRLUOB"
   },
   "outputs": [],
   "source": []
  },
  {
   "cell_type": "code",
   "execution_count": null,
   "metadata": {
    "id": "9Rlgu8g9Lik9"
   },
   "outputs": [],
   "source": []
  },
  {
   "cell_type": "markdown",
   "metadata": {
    "id": "po-jSQoN1Azl"
   },
   "source": [
    "### **8) Making GIF**"
   ]
  },
  {
   "cell_type": "code",
   "execution_count": null,
   "metadata": {
    "id": "XPShgQpg1EMy"
   },
   "outputs": [],
   "source": []
  }
 ],
 "metadata": {
  "accelerator": "GPU",
  "colab": {
   "collapsed_sections": [],
   "machine_shape": "hm",
   "name": "Cifar10_Solution.ipynb",
   "provenance": []
  },
  "kernelspec": {
   "display_name": "Python 3 (ipykernel)",
   "language": "python",
   "name": "python3"
  },
  "language_info": {
   "codemirror_mode": {
    "name": "ipython",
    "version": 3
   },
   "file_extension": ".py",
   "mimetype": "text/x-python",
   "name": "python",
   "nbconvert_exporter": "python",
   "pygments_lexer": "ipython3",
   "version": "3.9.6"
  }
 },
 "nbformat": 4,
 "nbformat_minor": 1
}
